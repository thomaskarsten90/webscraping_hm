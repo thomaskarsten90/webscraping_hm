{
 "cells": [
  {
   "cell_type": "markdown",
   "id": "d803445d",
   "metadata": {},
   "source": [
    "# Análise Descritiva dos dados"
   ]
  },
  {
   "cell_type": "markdown",
   "id": "977da0a9",
   "metadata": {},
   "source": [
    "# 0.0 - Imports "
   ]
  },
  {
   "cell_type": "code",
   "execution_count": 2,
   "id": "b3a18846",
   "metadata": {
    "ExecuteTime": {
     "end_time": "2022-09-09T03:34:30.930451Z",
     "start_time": "2022-09-09T03:34:30.702601Z"
    }
   },
   "outputs": [],
   "source": [
    "import pandas as pd\n",
    "from sqlalchemy   import create_engine\n",
    "import numpy as np"
   ]
  },
  {
   "cell_type": "markdown",
   "id": "992b2fe0",
   "metadata": {},
   "source": [
    "## 0.1 - Data Collection"
   ]
  },
  {
   "cell_type": "code",
   "execution_count": 3,
   "id": "3d981edb",
   "metadata": {
    "ExecuteTime": {
     "end_time": "2022-09-09T03:34:31.835938Z",
     "start_time": "2022-09-09T03:34:31.829225Z"
    }
   },
   "outputs": [],
   "source": [
    "path = '/home/linux-thomas/Repos/Curso_Python_DS_ao_DEV[CONCLUIDO]/Projeto_final/'\n",
    "database_name = 'database_hm.sqlite'\n",
    "conn = create_engine('sqlite:///' + path + database_name, echo=False)"
   ]
  },
  {
   "cell_type": "code",
   "execution_count": 4,
   "id": "b76667bb",
   "metadata": {
    "ExecuteTime": {
     "end_time": "2022-09-09T03:34:33.137809Z",
     "start_time": "2022-09-09T03:34:33.135501Z"
    }
   },
   "outputs": [],
   "source": [
    "query = \"\"\"\n",
    "    SELECT * FROM vitrine\n",
    "\"\"\""
   ]
  },
  {
   "cell_type": "code",
   "execution_count": 5,
   "id": "514c55ce",
   "metadata": {
    "ExecuteTime": {
     "end_time": "2022-09-09T03:34:33.740835Z",
     "start_time": "2022-09-09T03:34:33.704263Z"
    },
    "scrolled": true
   },
   "outputs": [],
   "source": [
    "df_raw = pd.read_sql (query, con=conn)"
   ]
  },
  {
   "cell_type": "markdown",
   "id": "9e8170ad",
   "metadata": {
    "ExecuteTime": {
     "end_time": "2022-09-04T21:37:08.857929Z",
     "start_time": "2022-09-04T21:37:08.856172Z"
    }
   },
   "source": [
    "# 1.0 - Data Description"
   ]
  },
  {
   "cell_type": "code",
   "execution_count": 6,
   "id": "e893334e",
   "metadata": {
    "ExecuteTime": {
     "end_time": "2022-09-09T03:34:36.598738Z",
     "start_time": "2022-09-09T03:34:36.596319Z"
    }
   },
   "outputs": [],
   "source": [
    "df01 = df_raw.copy()"
   ]
  },
  {
   "cell_type": "markdown",
   "id": "ba6701f6",
   "metadata": {},
   "source": [
    "## 1.1 - Data Dimension "
   ]
  },
  {
   "cell_type": "code",
   "execution_count": 7,
   "id": "294b2d55",
   "metadata": {
    "ExecuteTime": {
     "end_time": "2022-09-09T03:34:37.432409Z",
     "start_time": "2022-09-09T03:34:37.429839Z"
    }
   },
   "outputs": [
    {
     "name": "stdout",
     "output_type": "stream",
     "text": [
      "Number of Rows: 8293\n",
      "Number of Cols: 14\n"
     ]
    }
   ],
   "source": [
    "print('Number of Rows: {}'.format(df01.shape[0]))\n",
    "print('Number of Cols: {}'.format(df01.shape[1]))"
   ]
  },
  {
   "cell_type": "markdown",
   "id": "659259e3",
   "metadata": {},
   "source": [
    "## 1.2 - Data Types "
   ]
  },
  {
   "cell_type": "code",
   "execution_count": 8,
   "id": "c3dfa561",
   "metadata": {
    "ExecuteTime": {
     "end_time": "2022-09-09T03:34:39.851827Z",
     "start_time": "2022-09-09T03:34:39.842098Z"
    }
   },
   "outputs": [
    {
     "data": {
      "text/plain": [
       "product_id           object\n",
       "style_id             object\n",
       "color_id             object\n",
       "product_name         object\n",
       "color_name           object\n",
       "product_price       float64\n",
       "fit                  object\n",
       "cotton              float64\n",
       "polyester           float64\n",
       "spandex             float64\n",
       "lyocell             float64\n",
       "rayon               float64\n",
       "elastomultiester    float64\n",
       "scrapy_datetime      object\n",
       "dtype: object"
      ]
     },
     "execution_count": 8,
     "metadata": {},
     "output_type": "execute_result"
    }
   ],
   "source": [
    "df01.dtypes"
   ]
  },
  {
   "cell_type": "code",
   "execution_count": 9,
   "id": "c3bba2d4",
   "metadata": {
    "ExecuteTime": {
     "end_time": "2022-09-09T03:34:40.006089Z",
     "start_time": "2022-09-09T03:34:40.001682Z"
    }
   },
   "outputs": [],
   "source": [
    "# Convert object to datetime\n",
    "df01['scrapy_datetime'] = pd.to_datetime(df01['scrapy_datetime'])"
   ]
  },
  {
   "cell_type": "code",
   "execution_count": 10,
   "id": "f088b826",
   "metadata": {
    "ExecuteTime": {
     "end_time": "2022-09-09T03:34:40.238094Z",
     "start_time": "2022-09-09T03:34:40.234086Z"
    }
   },
   "outputs": [
    {
     "data": {
      "text/plain": [
       "product_id                  object\n",
       "style_id                    object\n",
       "color_id                    object\n",
       "product_name                object\n",
       "color_name                  object\n",
       "product_price              float64\n",
       "fit                         object\n",
       "cotton                     float64\n",
       "polyester                  float64\n",
       "spandex                    float64\n",
       "lyocell                    float64\n",
       "rayon                      float64\n",
       "elastomultiester           float64\n",
       "scrapy_datetime     datetime64[ns]\n",
       "dtype: object"
      ]
     },
     "execution_count": 10,
     "metadata": {},
     "output_type": "execute_result"
    }
   ],
   "source": [
    "df01.dtypes"
   ]
  },
  {
   "cell_type": "markdown",
   "id": "6a81250b",
   "metadata": {},
   "source": [
    "## 1.3 - Identification of missing data "
   ]
  },
  {
   "cell_type": "code",
   "execution_count": 11,
   "id": "f3e1bc2c",
   "metadata": {
    "ExecuteTime": {
     "end_time": "2022-09-09T03:34:40.496462Z",
     "start_time": "2022-09-09T03:34:40.486293Z"
    }
   },
   "outputs": [
    {
     "data": {
      "text/plain": [
       "product_id          0\n",
       "style_id            0\n",
       "color_id            0\n",
       "product_name        0\n",
       "color_name          0\n",
       "product_price       0\n",
       "fit                 0\n",
       "cotton              0\n",
       "polyester           0\n",
       "spandex             0\n",
       "lyocell             0\n",
       "rayon               0\n",
       "elastomultiester    0\n",
       "scrapy_datetime     0\n",
       "dtype: int64"
      ]
     },
     "execution_count": 11,
     "metadata": {},
     "output_type": "execute_result"
    }
   ],
   "source": [
    "df01.isna().sum()"
   ]
  },
  {
   "cell_type": "markdown",
   "id": "6db6a46b",
   "metadata": {},
   "source": [
    "## 1.4 - Missing data replacement"
   ]
  },
  {
   "cell_type": "markdown",
   "id": "55a9fa47",
   "metadata": {},
   "source": [
    "## 1.5 - Data description"
   ]
  },
  {
   "cell_type": "code",
   "execution_count": 12,
   "id": "f9a82cbd",
   "metadata": {
    "ExecuteTime": {
     "end_time": "2022-09-09T03:34:41.051540Z",
     "start_time": "2022-09-09T03:34:41.048735Z"
    }
   },
   "outputs": [],
   "source": [
    "num_attributes = df01.select_dtypes(include=['int64', 'float64'])\n",
    "cat_attributes = df01.select_dtypes(exclude=['int64', 'float64', 'datetime64[ns]'])"
   ]
  },
  {
   "cell_type": "code",
   "execution_count": 13,
   "id": "e545006b",
   "metadata": {
    "ExecuteTime": {
     "end_time": "2022-09-09T03:34:41.205638Z",
     "start_time": "2022-09-09T03:34:41.192187Z"
    }
   },
   "outputs": [],
   "source": [
    "# Central tendency - mean, median\n",
    "t1 = pd.DataFrame(num_attributes.apply(np.mean)).T\n",
    "t2 = pd.DataFrame(num_attributes.apply(np.median)).T\n",
    "\n",
    "# Dispersion - std, min, max, range, skew, kurtosis\n",
    "d1 = pd.DataFrame(num_attributes.apply(np.std)).T\n",
    "d2 = pd.DataFrame(num_attributes.apply(np.min)).T\n",
    "d3 = pd.DataFrame(num_attributes.apply(np.max)).T\n",
    "d4 = pd.DataFrame(num_attributes.apply(lambda x: x.max() - x.min())).T \n",
    "d5 = pd.DataFrame(num_attributes.apply(lambda x: x.skew())).T \n",
    "d6 = pd.DataFrame(num_attributes.apply(lambda x: x.kurtosis())).T\n",
    "\n",
    "# Concat\n",
    "m1 = pd.concat([d2,d3,d4,t1,t2,d1,d5,d6]).T.reset_index()\n",
    "m1.columns = ['attributes', 'min', 'max', 'range', 'mean', 'median', 'std', 'skew', 'kurtosis']"
   ]
  },
  {
   "cell_type": "code",
   "execution_count": 14,
   "id": "54ab6c82",
   "metadata": {
    "ExecuteTime": {
     "end_time": "2022-09-09T03:34:41.297014Z",
     "start_time": "2022-09-09T03:34:41.288271Z"
    },
    "scrolled": true
   },
   "outputs": [
    {
     "data": {
      "text/html": [
       "<div>\n",
       "<style scoped>\n",
       "    .dataframe tbody tr th:only-of-type {\n",
       "        vertical-align: middle;\n",
       "    }\n",
       "\n",
       "    .dataframe tbody tr th {\n",
       "        vertical-align: top;\n",
       "    }\n",
       "\n",
       "    .dataframe thead th {\n",
       "        text-align: right;\n",
       "    }\n",
       "</style>\n",
       "<table border=\"1\" class=\"dataframe\">\n",
       "  <thead>\n",
       "    <tr style=\"text-align: right;\">\n",
       "      <th></th>\n",
       "      <th>attributes</th>\n",
       "      <th>min</th>\n",
       "      <th>max</th>\n",
       "      <th>range</th>\n",
       "      <th>mean</th>\n",
       "      <th>median</th>\n",
       "      <th>std</th>\n",
       "      <th>skew</th>\n",
       "      <th>kurtosis</th>\n",
       "    </tr>\n",
       "  </thead>\n",
       "  <tbody>\n",
       "    <tr>\n",
       "      <th>0</th>\n",
       "      <td>product_price</td>\n",
       "      <td>7.99</td>\n",
       "      <td>49.99</td>\n",
       "      <td>42.00</td>\n",
       "      <td>30.849520</td>\n",
       "      <td>29.99</td>\n",
       "      <td>11.394472</td>\n",
       "      <td>-0.020909</td>\n",
       "      <td>-1.156627</td>\n",
       "    </tr>\n",
       "    <tr>\n",
       "      <th>1</th>\n",
       "      <td>cotton</td>\n",
       "      <td>0.35</td>\n",
       "      <td>1.00</td>\n",
       "      <td>0.65</td>\n",
       "      <td>0.955008</td>\n",
       "      <td>0.99</td>\n",
       "      <td>0.110046</td>\n",
       "      <td>-3.876378</td>\n",
       "      <td>17.026526</td>\n",
       "    </tr>\n",
       "    <tr>\n",
       "      <th>2</th>\n",
       "      <td>polyester</td>\n",
       "      <td>0.00</td>\n",
       "      <td>1.00</td>\n",
       "      <td>1.00</td>\n",
       "      <td>0.382371</td>\n",
       "      <td>0.65</td>\n",
       "      <td>0.336634</td>\n",
       "      <td>-0.005804</td>\n",
       "      <td>-1.607482</td>\n",
       "    </tr>\n",
       "    <tr>\n",
       "      <th>3</th>\n",
       "      <td>spandex</td>\n",
       "      <td>0.00</td>\n",
       "      <td>0.02</td>\n",
       "      <td>0.02</td>\n",
       "      <td>0.002441</td>\n",
       "      <td>0.00</td>\n",
       "      <td>0.006128</td>\n",
       "      <td>2.293350</td>\n",
       "      <td>3.586381</td>\n",
       "    </tr>\n",
       "    <tr>\n",
       "      <th>4</th>\n",
       "      <td>lyocell</td>\n",
       "      <td>0.00</td>\n",
       "      <td>0.55</td>\n",
       "      <td>0.55</td>\n",
       "      <td>0.022284</td>\n",
       "      <td>0.00</td>\n",
       "      <td>0.105967</td>\n",
       "      <td>4.557533</td>\n",
       "      <td>18.833263</td>\n",
       "    </tr>\n",
       "    <tr>\n",
       "      <th>5</th>\n",
       "      <td>rayon</td>\n",
       "      <td>0.00</td>\n",
       "      <td>0.50</td>\n",
       "      <td>0.50</td>\n",
       "      <td>0.013795</td>\n",
       "      <td>0.00</td>\n",
       "      <td>0.074786</td>\n",
       "      <td>5.955110</td>\n",
       "      <td>35.171116</td>\n",
       "    </tr>\n",
       "    <tr>\n",
       "      <th>6</th>\n",
       "      <td>elastomultiester</td>\n",
       "      <td>0.00</td>\n",
       "      <td>0.09</td>\n",
       "      <td>0.09</td>\n",
       "      <td>0.004563</td>\n",
       "      <td>0.00</td>\n",
       "      <td>0.019310</td>\n",
       "      <td>4.011121</td>\n",
       "      <td>14.156507</td>\n",
       "    </tr>\n",
       "  </tbody>\n",
       "</table>\n",
       "</div>"
      ],
      "text/plain": [
       "         attributes   min    max  range       mean  median        std  \\\n",
       "0     product_price  7.99  49.99  42.00  30.849520   29.99  11.394472   \n",
       "1            cotton  0.35   1.00   0.65   0.955008    0.99   0.110046   \n",
       "2         polyester  0.00   1.00   1.00   0.382371    0.65   0.336634   \n",
       "3           spandex  0.00   0.02   0.02   0.002441    0.00   0.006128   \n",
       "4           lyocell  0.00   0.55   0.55   0.022284    0.00   0.105967   \n",
       "5             rayon  0.00   0.50   0.50   0.013795    0.00   0.074786   \n",
       "6  elastomultiester  0.00   0.09   0.09   0.004563    0.00   0.019310   \n",
       "\n",
       "       skew   kurtosis  \n",
       "0 -0.020909  -1.156627  \n",
       "1 -3.876378  17.026526  \n",
       "2 -0.005804  -1.607482  \n",
       "3  2.293350   3.586381  \n",
       "4  4.557533  18.833263  \n",
       "5  5.955110  35.171116  \n",
       "6  4.011121  14.156507  "
      ]
     },
     "execution_count": 14,
     "metadata": {},
     "output_type": "execute_result"
    }
   ],
   "source": [
    "m1"
   ]
  }
 ],
 "metadata": {
  "kernelspec": {
   "display_name": "Python 3 (ipykernel)",
   "language": "python",
   "name": "python3"
  },
  "language_info": {
   "codemirror_mode": {
    "name": "ipython",
    "version": 3
   },
   "file_extension": ".py",
   "mimetype": "text/x-python",
   "name": "python",
   "nbconvert_exporter": "python",
   "pygments_lexer": "ipython3",
   "version": "3.9.12"
  },
  "latex_envs": {
   "LaTeX_envs_menu_present": true,
   "autoclose": false,
   "autocomplete": true,
   "bibliofile": "biblio.bib",
   "cite_by": "apalike",
   "current_citInitial": 1,
   "eqLabelWithNumbers": true,
   "eqNumInitial": 1,
   "hotkeys": {
    "equation": "Ctrl-E",
    "itemize": "Ctrl-I"
   },
   "labels_anchors": false,
   "latex_user_defs": false,
   "report_style_numbering": false,
   "user_envs_cfg": false
  },
  "varInspector": {
   "cols": {
    "lenName": 16,
    "lenType": 16,
    "lenVar": 40
   },
   "kernels_config": {
    "python": {
     "delete_cmd_postfix": "",
     "delete_cmd_prefix": "del ",
     "library": "var_list.py",
     "varRefreshCmd": "print(var_dic_list())"
    },
    "r": {
     "delete_cmd_postfix": ") ",
     "delete_cmd_prefix": "rm(",
     "library": "var_list.r",
     "varRefreshCmd": "cat(var_dic_list()) "
    }
   },
   "types_to_exclude": [
    "module",
    "function",
    "builtin_function_or_method",
    "instance",
    "_Feature"
   ],
   "window_display": false
  }
 },
 "nbformat": 4,
 "nbformat_minor": 5
}
